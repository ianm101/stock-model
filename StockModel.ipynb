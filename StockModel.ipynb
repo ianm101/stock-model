{
  "nbformat": 4,
  "nbformat_minor": 0,
  "metadata": {
    "colab": {
      "name": "StockModel.ipynb",
      "provenance": [],
      "collapsed_sections": [],
      "authorship_tag": "ABX9TyNgt/XhBLS07Xhc4y52HjWX",
      "include_colab_link": true
    },
    "kernelspec": {
      "name": "python3",
      "display_name": "Python 3"
    }
  },
  "cells": [
    {
      "cell_type": "markdown",
      "metadata": {
        "id": "view-in-github",
        "colab_type": "text"
      },
      "source": [
        "<a href=\"https://colab.research.google.com/github/ianm101/stock-model/blob/main/StockModel.ipynb\" target=\"_parent\"><img src=\"https://colab.research.google.com/assets/colab-badge.svg\" alt=\"Open In Colab\"/></a>"
      ]
    },
    {
      "cell_type": "code",
      "metadata": {
        "id": "EIGLQpUcBNI2",
        "colab": {
          "base_uri": "https://localhost:8080/"
        },
        "outputId": "bd560f90-727a-4bfb-9db8-f7f5128b2846"
      },
      "source": [
        "!pip install yfinance\r\n",
        "print(\"yfinance installed\")"
      ],
      "execution_count": 2,
      "outputs": [
        {
          "output_type": "stream",
          "text": [
            "Collecting yfinance\n",
            "  Downloading https://files.pythonhosted.org/packages/7a/e8/b9d7104d3a4bf39924799067592d9e59119fcfc900a425a12e80a3123ec8/yfinance-0.1.55.tar.gz\n",
            "Requirement already satisfied: pandas>=0.24 in /usr/local/lib/python3.6/dist-packages (from yfinance) (1.1.5)\n",
            "Requirement already satisfied: numpy>=1.15 in /usr/local/lib/python3.6/dist-packages (from yfinance) (1.19.4)\n",
            "Requirement already satisfied: requests>=2.20 in /usr/local/lib/python3.6/dist-packages (from yfinance) (2.23.0)\n",
            "Requirement already satisfied: multitasking>=0.0.7 in /usr/local/lib/python3.6/dist-packages (from yfinance) (0.0.9)\n",
            "Collecting lxml>=4.5.1\n",
            "\u001b[?25l  Downloading https://files.pythonhosted.org/packages/bd/78/56a7c88a57d0d14945472535d0df9fb4bbad7d34ede658ec7961635c790e/lxml-4.6.2-cp36-cp36m-manylinux1_x86_64.whl (5.5MB)\n",
            "\u001b[K     |████████████████████████████████| 5.5MB 6.4MB/s \n",
            "\u001b[?25hRequirement already satisfied: pytz>=2017.2 in /usr/local/lib/python3.6/dist-packages (from pandas>=0.24->yfinance) (2018.9)\n",
            "Requirement already satisfied: python-dateutil>=2.7.3 in /usr/local/lib/python3.6/dist-packages (from pandas>=0.24->yfinance) (2.8.1)\n",
            "Requirement already satisfied: idna<3,>=2.5 in /usr/local/lib/python3.6/dist-packages (from requests>=2.20->yfinance) (2.10)\n",
            "Requirement already satisfied: chardet<4,>=3.0.2 in /usr/local/lib/python3.6/dist-packages (from requests>=2.20->yfinance) (3.0.4)\n",
            "Requirement already satisfied: certifi>=2017.4.17 in /usr/local/lib/python3.6/dist-packages (from requests>=2.20->yfinance) (2020.12.5)\n",
            "Requirement already satisfied: urllib3!=1.25.0,!=1.25.1,<1.26,>=1.21.1 in /usr/local/lib/python3.6/dist-packages (from requests>=2.20->yfinance) (1.24.3)\n",
            "Requirement already satisfied: six>=1.5 in /usr/local/lib/python3.6/dist-packages (from python-dateutil>=2.7.3->pandas>=0.24->yfinance) (1.15.0)\n",
            "Building wheels for collected packages: yfinance\n",
            "  Building wheel for yfinance (setup.py) ... \u001b[?25l\u001b[?25hdone\n",
            "  Created wheel for yfinance: filename=yfinance-0.1.55-py2.py3-none-any.whl size=22616 sha256=c38eb0e86929fa6aae964d9dd2c817de87465edf5bedd1d8ea8b669448071dc1\n",
            "  Stored in directory: /root/.cache/pip/wheels/04/98/cc/2702a4242d60bdc14f48b4557c427ded1fe92aedf257d4565c\n",
            "Successfully built yfinance\n",
            "Installing collected packages: lxml, yfinance\n",
            "  Found existing installation: lxml 4.2.6\n",
            "    Uninstalling lxml-4.2.6:\n",
            "      Successfully uninstalled lxml-4.2.6\n",
            "Successfully installed lxml-4.6.2 yfinance-0.1.55\n",
            "yfinance installed\n"
          ],
          "name": "stdout"
        }
      ]
    },
    {
      "cell_type": "code",
      "metadata": {
        "id": "eC221eKDMPJJ"
      },
      "source": [
        "import yfinance as yf\r\n",
        "import pandas as pd\r\n",
        "#from pandas import Series as pds\r\n",
        "import numpy as np\r\n",
        "import matplotlib.pyplot as plt\r\n",
        "import os, datetime\r\n",
        "\r\n",
        "from sklearn.model_selection import TimeSeriesSplit\r\n",
        "from sklearn.preprocessing import MinMaxScaler\r\n",
        "\r\n",
        "import tensorflow as tf\r\n",
        "from tensorflow.keras.layers import SimpleRNN, Dense, Dropout\r\n",
        "from tensorflow.keras.models import Sequential"
      ],
      "execution_count": 47,
      "outputs": []
    },
    {
      "cell_type": "code",
      "metadata": {
        "id": "0-i-SR5C_zvD"
      },
      "source": [
        "# Get the data\r\n",
        "ticker = yf.Ticker('ibm')\r\n",
        "historicals = ticker.history(interval='1d', period='max')"
      ],
      "execution_count": 48,
      "outputs": []
    },
    {
      "cell_type": "code",
      "metadata": {
        "colab": {
          "base_uri": "https://localhost:8080/"
        },
        "id": "J_WR8BNVapDu",
        "outputId": "0fa09ea2-efc0-493f-fbda-cf443e0aee58"
      },
      "source": [
        "\r\n",
        "\r\n",
        "# Add simple moving averages (1 wk, 2 wk, 25 day, 50 day, 200 day)\r\n",
        "historicals['SMA_07'] = historicals.Close.rolling(7).mean()\r\n",
        "historicals['SMA_14'] = historicals.Close.rolling(14).mean()\r\n",
        "historicals['SMA_25'] = historicals.Close.rolling(25).mean()\r\n",
        "historicals['SMA_50'] = historicals.Close.rolling(50).mean()\r\n",
        "historicals['SMA_200'] = historicals.Close.rolling(200).mean()\r\n",
        "\r\n",
        "# drop values without any data and convert types \r\n",
        "historicals.dropna(inplace=True)\r\n",
        "try:\r\n",
        "  historicals.drop(columns=['Dividends', 'Stock Splits'], inplace=True)\r\n",
        "except:\r\n",
        "  print(\"Dividends / Stock splits already removed from dataframe\")\r\n",
        "historicals = historicals.convert_dtypes()\r\n",
        "\r\n",
        "\r\n",
        "\r\n",
        "print(historicals.info())\r\n",
        "print(historicals.head())\r\n",
        "\r\n",
        "\r\n",
        "\r\n"
      ],
      "execution_count": 49,
      "outputs": [
        {
          "output_type": "stream",
          "text": [
            "<class 'pandas.core.frame.DataFrame'>\n",
            "DatetimeIndex: 14659 entries, 1962-10-15 to 2021-01-08\n",
            "Data columns (total 10 columns):\n",
            " #   Column   Non-Null Count  Dtype  \n",
            "---  ------   --------------  -----  \n",
            " 0   Open     14659 non-null  float64\n",
            " 1   High     14659 non-null  float64\n",
            " 2   Low      14659 non-null  float64\n",
            " 3   Close    14659 non-null  float64\n",
            " 4   Volume   14659 non-null  Int64  \n",
            " 5   SMA_07   14659 non-null  float64\n",
            " 6   SMA_14   14659 non-null  float64\n",
            " 7   SMA_25   14659 non-null  float64\n",
            " 8   SMA_50   14659 non-null  float64\n",
            " 9   SMA_200  14659 non-null  float64\n",
            "dtypes: Int64(1), float64(9)\n",
            "memory usage: 1.2 MB\n",
            "None\n",
            "                Open      High       Low  ...    SMA_25    SMA_50   SMA_200\n",
            "Date                                      ...                              \n",
            "1962-10-15  1.155774  1.188148  1.155774  ...  1.188924  1.224515  1.447901\n",
            "1962-10-16  1.188147  1.193003  1.157391  ...  1.185751  1.223063  1.444433\n",
            "1962-10-17  1.157391  1.181672  1.150916  ...  1.182886  1.222302  1.440950\n",
            "1962-10-18  1.170341  1.178435  1.149703  ...  1.179212  1.220578  1.437456\n",
            "1962-10-19  1.149702  1.152535  1.126635  ...  1.174016  1.218741  1.434030\n",
            "\n",
            "[5 rows x 10 columns]\n"
          ],
          "name": "stdout"
        }
      ]
    },
    {
      "cell_type": "code",
      "metadata": {
        "colab": {
          "base_uri": "https://localhost:8080/"
        },
        "id": "hEdDJ1ZHGy7x",
        "outputId": "96459919-f38c-4cf9-b28d-aa7d1f48a944"
      },
      "source": [
        "\r\n",
        "\r\n",
        "# Normalize the data\r\n",
        "scaler = MinMaxScaler(feature_range= (0, 1))\r\n",
        "scaler = scaler.fit(historicals)\r\n",
        "normalized = scaler.transform(historicals)\r\n",
        "\r\n",
        "normal_data = pd.DataFrame(data=normalized, columns = historicals.columns)\r\n",
        "print(normal_data.shape)\r\n",
        "\r\n",
        "# Split data into training, validation, and testing\r\n",
        "# Get rid of 2 categories, dividends and stock splits\r\n",
        "\r\n",
        "WINDOW_SIZE = 14\r\n",
        "\r\n",
        "# Split using scikit learn TimeSeriesSplit class\r\n",
        "tscv = TimeSeriesSplit(n_splits = len(normal_data)-WINDOW_SIZE, max_train_size = WINDOW_SIZE)\r\n",
        "# [1,2,3], [4]\r\n",
        "# [2,3,4], [5]\r\n",
        "\r\n",
        "X, y = [], []\r\n",
        "for train_index, test_index in tscv.split(normal_data):\r\n",
        "  #print(\"train:{0}\\ttest{1}\".format(train_index, test_index))\r\n",
        "  \r\n",
        "  #print(\"historical stonks: {0}\\nstonk to predict:{1}\".format(historicals.Close[train_index], historicals.Close[test_index]))\r\n",
        "  \r\n",
        "  X.append(normal_data['Close'][train_index])\r\n",
        "  y.append(normal_data['Close'][test_index])\r\n",
        "\r\n",
        "X = np.array(X)\r\n",
        "y = np.array(y)"
      ],
      "execution_count": 50,
      "outputs": [
        {
          "output_type": "stream",
          "text": [
            "(14659, 10)\n"
          ],
          "name": "stdout"
        }
      ]
    },
    {
      "cell_type": "code",
      "metadata": {
        "colab": {
          "base_uri": "https://localhost:8080/"
        },
        "id": "ur2fs-FLJ7tq",
        "outputId": "47920ad0-58b1-4b7f-a4eb-3e769787f67f"
      },
      "source": [
        "print(normal_data.head())\r\n",
        "print(normal_data.shape)"
      ],
      "execution_count": 51,
      "outputs": [
        {
          "output_type": "stream",
          "text": [
            "       Open      High       Low  ...    SMA_25    SMA_50   SMA_200\n",
            "0  0.000555  0.000615  0.000723  ...  0.000342  0.000352  0.001473\n",
            "1  0.000760  0.000646  0.000733  ...  0.000321  0.000342  0.001450\n",
            "2  0.000565  0.000574  0.000692  ...  0.000303  0.000337  0.001426\n",
            "3  0.000647  0.000554  0.000684  ...  0.000279  0.000326  0.001402\n",
            "4  0.000516  0.000390  0.000537  ...  0.000246  0.000314  0.001379\n",
            "\n",
            "[5 rows x 10 columns]\n",
            "(14659, 10)\n"
          ],
          "name": "stdout"
        }
      ]
    },
    {
      "cell_type": "code",
      "metadata": {
        "id": "V2YudLpX_y40",
        "colab": {
          "base_uri": "https://localhost:8080/"
        },
        "outputId": "b567bd83-a6ec-4954-b501-27df925b0a38"
      },
      "source": [
        "# Basic DNN, takes in inputs size [WINDOW_SIZE, 1] (currrently univariate) and outputs scalar\r\n",
        "# [BATCH_SIZE, WINDOW_SIZE, NUMBER_FEATURES] (ndim = 3)\r\n",
        "# WHAT IS DIMENSION OF INPUT SEQUENCES? --> (Number samples, WINDOW_SIZE)\r\n",
        "print(X.shape)\r\n",
        "num_variables = 1\r\n",
        "X = X.reshape((-1, WINDOW_SIZE, 1))\r\n",
        "\r\n",
        "model = keras.models.Sequential([\r\n",
        "  keras.layers.SimpleRNN(10, return_sequences=True, input_shape=(WINDOW_SIZE, num_variables)), \r\n",
        "  keras.layers.Dropout(0.2),\r\n",
        "  keras.layers.SimpleRNN(10, return_sequences=False),  \r\n",
        "  keras.layers.Dropout(0.2),\r\n",
        "  keras.layers.Dense(1, activation='linear')\r\n",
        "])\r\n",
        "print(\"Model built\")\r\n",
        "\r\n",
        "# Compile the model\r\n",
        "optimizer = keras.optimizers.Adam(lr=0.0015)\r\n",
        "model.compile(optimizer=optimizer, loss='mean_squared_error', metrics=['mean_absolute_error'])\r\n",
        "\r\n",
        "X = np.array(X)\r\n",
        "y = np.array(y)\r\n",
        "model.summary()"
      ],
      "execution_count": 52,
      "outputs": [
        {
          "output_type": "stream",
          "text": [
            "(14645, 14)\n",
            "Model built\n",
            "Model: \"sequential_2\"\n",
            "_________________________________________________________________\n",
            "Layer (type)                 Output Shape              Param #   \n",
            "=================================================================\n",
            "simple_rnn_4 (SimpleRNN)     (None, 14, 10)            120       \n",
            "_________________________________________________________________\n",
            "dropout_4 (Dropout)          (None, 14, 10)            0         \n",
            "_________________________________________________________________\n",
            "simple_rnn_5 (SimpleRNN)     (None, 10)                210       \n",
            "_________________________________________________________________\n",
            "dropout_5 (Dropout)          (None, 10)                0         \n",
            "_________________________________________________________________\n",
            "dense_2 (Dense)              (None, 1)                 11        \n",
            "=================================================================\n",
            "Total params: 341\n",
            "Trainable params: 341\n",
            "Non-trainable params: 0\n",
            "_________________________________________________________________\n"
          ],
          "name": "stdout"
        }
      ]
    },
    {
      "cell_type": "code",
      "metadata": {
        "id": "GX3Omc3cMijS",
        "colab": {
          "base_uri": "https://localhost:8080/"
        },
        "outputId": "a9c726dd-13e2-4b05-fc84-abfd2a539482"
      },
      "source": [
        "%load_ext tensorboard\r\n",
        "# callbacks are objects that can perform actions at various training stages - using them to graph model accuracy in training and validation\r\n",
        "logdir = os.path.join('logs', datetime.datetime.now().strftime(\"%Y%m%d - %H%M\"))\r\n",
        "my_callbacks = [tf.keras.callbacks.TensorBoard(log_dir=logdir)]\r\n",
        "\r\n",
        "\r\n",
        "# Fit model\r\n",
        "model.fit(X, y, epochs = 30, shuffle=False, callbacks=my_callbacks)\r\n",
        "\r\n"
      ],
      "execution_count": 53,
      "outputs": [
        {
          "output_type": "stream",
          "text": [
            "The tensorboard extension is already loaded. To reload it, use:\n",
            "  %reload_ext tensorboard\n",
            "Epoch 1/30\n",
            "458/458 [==============================] - 4s 6ms/step - loss: 0.0012 - mean_absolute_error: 0.0203\n",
            "Epoch 2/30\n",
            "458/458 [==============================] - 3s 6ms/step - loss: 0.0093 - mean_absolute_error: 0.0547\n",
            "Epoch 3/30\n",
            "458/458 [==============================] - 3s 6ms/step - loss: 0.0060 - mean_absolute_error: 0.0498\n",
            "Epoch 4/30\n",
            "458/458 [==============================] - 2s 5ms/step - loss: 0.0040 - mean_absolute_error: 0.0440\n",
            "Epoch 5/30\n",
            "458/458 [==============================] - 3s 6ms/step - loss: 0.0026 - mean_absolute_error: 0.0383\n",
            "Epoch 6/30\n",
            "458/458 [==============================] - 3s 6ms/step - loss: 0.0021 - mean_absolute_error: 0.0350\n",
            "Epoch 7/30\n",
            "458/458 [==============================] - 3s 6ms/step - loss: 0.0023 - mean_absolute_error: 0.0365\n",
            "Epoch 8/30\n",
            "458/458 [==============================] - 3s 6ms/step - loss: 0.0025 - mean_absolute_error: 0.0384\n",
            "Epoch 9/30\n",
            "458/458 [==============================] - 3s 6ms/step - loss: 0.0027 - mean_absolute_error: 0.0396\n",
            "Epoch 10/30\n",
            "458/458 [==============================] - 3s 6ms/step - loss: 0.0029 - mean_absolute_error: 0.0415\n",
            "Epoch 11/30\n",
            "458/458 [==============================] - 3s 6ms/step - loss: 0.0032 - mean_absolute_error: 0.0431\n",
            "Epoch 12/30\n",
            "458/458 [==============================] - 3s 6ms/step - loss: 0.0033 - mean_absolute_error: 0.0431\n",
            "Epoch 13/30\n",
            "458/458 [==============================] - 3s 6ms/step - loss: 0.0035 - mean_absolute_error: 0.0451\n",
            "Epoch 14/30\n",
            "458/458 [==============================] - 3s 6ms/step - loss: 0.0037 - mean_absolute_error: 0.0456\n",
            "Epoch 15/30\n",
            "458/458 [==============================] - 3s 6ms/step - loss: 0.0036 - mean_absolute_error: 0.0459\n",
            "Epoch 16/30\n",
            "458/458 [==============================] - 3s 6ms/step - loss: 0.0036 - mean_absolute_error: 0.0451\n",
            "Epoch 17/30\n",
            "458/458 [==============================] - 3s 6ms/step - loss: 0.0036 - mean_absolute_error: 0.0454\n",
            "Epoch 18/30\n",
            "458/458 [==============================] - 3s 5ms/step - loss: 0.0035 - mean_absolute_error: 0.0448\n",
            "Epoch 19/30\n",
            "458/458 [==============================] - 3s 6ms/step - loss: 0.0041 - mean_absolute_error: 0.0476\n",
            "Epoch 20/30\n",
            "458/458 [==============================] - 3s 6ms/step - loss: 0.0044 - mean_absolute_error: 0.0491\n",
            "Epoch 21/30\n",
            "458/458 [==============================] - 3s 6ms/step - loss: 0.0045 - mean_absolute_error: 0.0499\n",
            "Epoch 22/30\n",
            "458/458 [==============================] - 3s 6ms/step - loss: 0.0046 - mean_absolute_error: 0.0496\n",
            "Epoch 23/30\n",
            "458/458 [==============================] - 3s 6ms/step - loss: 0.0046 - mean_absolute_error: 0.0500\n",
            "Epoch 24/30\n",
            "458/458 [==============================] - 3s 6ms/step - loss: 0.0046 - mean_absolute_error: 0.0491\n",
            "Epoch 25/30\n",
            "458/458 [==============================] - 3s 6ms/step - loss: 0.0048 - mean_absolute_error: 0.0504\n",
            "Epoch 26/30\n",
            "458/458 [==============================] - 3s 6ms/step - loss: 0.0047 - mean_absolute_error: 0.0500\n",
            "Epoch 27/30\n",
            "458/458 [==============================] - 3s 6ms/step - loss: 0.0052 - mean_absolute_error: 0.0520\n",
            "Epoch 28/30\n",
            "458/458 [==============================] - 3s 6ms/step - loss: 0.0048 - mean_absolute_error: 0.0502\n",
            "Epoch 29/30\n",
            "458/458 [==============================] - 3s 6ms/step - loss: 0.0049 - mean_absolute_error: 0.0506\n",
            "Epoch 30/30\n",
            "458/458 [==============================] - 3s 6ms/step - loss: 0.0051 - mean_absolute_error: 0.0512\n"
          ],
          "name": "stdout"
        },
        {
          "output_type": "execute_result",
          "data": {
            "text/plain": [
              "<tensorflow.python.keras.callbacks.History at 0x7f37ade41be0>"
            ]
          },
          "metadata": {
            "tags": []
          },
          "execution_count": 53
        }
      ]
    },
    {
      "cell_type": "code",
      "metadata": {
        "id": "3hYsjUPfg05A"
      },
      "source": [
        "%tensorboard --logdir logs"
      ],
      "execution_count": null,
      "outputs": []
    },
    {
      "cell_type": "code",
      "metadata": {
        "id": "qBg7eHgndB7D"
      },
      "source": [
        "sample = X[:14]\r\n",
        "\r\n",
        "sample = sample.reshape(-1, WINDOW_SIZE, 1)\r\n",
        "pred = model.predict(sample)\r\n",
        "truth = y[14]\r\n",
        "\r\n",
        "print(\"Sample: {0} : ({1},\\t{2})\".format(sample, pred, truth))\r\n"
      ],
      "execution_count": null,
      "outputs": []
    },
    {
      "cell_type": "code",
      "metadata": {
        "colab": {
          "base_uri": "https://localhost:8080/"
        },
        "id": "51l3U6bvdzam",
        "outputId": "d94b61ea-ae38-40ba-c530-bb42d9585ca4"
      },
      "source": [
        "print(y)"
      ],
      "execution_count": 56,
      "outputs": [
        {
          "output_type": "stream",
          "text": [
            "[[5.58920605e-04]\n",
            " [6.47644372e-04]\n",
            " [6.42518489e-04]\n",
            " ...\n",
            " [8.12347818e-01]\n",
            " [8.10447246e-01]\n",
            " [8.05093743e-01]]\n"
          ],
          "name": "stdout"
        }
      ]
    },
    {
      "cell_type": "code",
      "metadata": {
        "id": "fD4StO1VgkVY"
      },
      "source": [
        ""
      ],
      "execution_count": null,
      "outputs": []
    }
  ]
}